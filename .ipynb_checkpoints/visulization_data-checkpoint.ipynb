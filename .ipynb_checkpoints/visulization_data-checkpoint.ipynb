{
 "cells": [
  {
   "cell_type": "markdown",
   "id": "d0819646",
   "metadata": {},
   "source": [
    "## Trực quan hóa dữ liệu\n",
    "---"
   ]
  },
  {
   "cell_type": "code",
   "execution_count": 9,
   "id": "e85e4f84",
   "metadata": {},
   "outputs": [],
   "source": [
    "import zipfile\n",
    "import pandas as pd\n",
    "import matplotlib.pyplot as plt\n",
    "import seaborn as sns"
   ]
  },
  {
   "cell_type": "code",
   "execution_count": 10,
   "id": "90d6e08e",
   "metadata": {},
   "outputs": [],
   "source": [
    "zip_path = \"data/data - data.csv.zip\"\n",
    "\n",
    "with zipfile.ZipFile(zip_path, \"r\") as zip_ref:\n",
    "    csv_filename = [f for f in zip_ref.namelist() if f.endswith('.csv')][0]\n",
    "\n",
    "    with zip_ref.open(csv_filename) as csv_file:\n",
    "        df = pd.read_csv(csv_file)\n",
    "df.drop(columns=['Unnamed: 3'], inplace=True)"
   ]
  },
  {
   "cell_type": "markdown",
   "id": "308edc51",
   "metadata": {},
   "source": [
    "### xem vài dòng đầu"
   ]
  },
  {
   "cell_type": "code",
   "execution_count": 11,
   "id": "3944c884",
   "metadata": {},
   "outputs": [
    {
     "data": {
      "text/html": [
       "<div>\n",
       "<style scoped>\n",
       "    .dataframe tbody tr th:only-of-type {\n",
       "        vertical-align: middle;\n",
       "    }\n",
       "\n",
       "    .dataframe tbody tr th {\n",
       "        vertical-align: top;\n",
       "    }\n",
       "\n",
       "    .dataframe thead th {\n",
       "        text-align: right;\n",
       "    }\n",
       "</style>\n",
       "<table border=\"1\" class=\"dataframe\">\n",
       "  <thead>\n",
       "    <tr style=\"text-align: right;\">\n",
       "      <th></th>\n",
       "      <th>comment</th>\n",
       "      <th>label</th>\n",
       "      <th>rate</th>\n",
       "    </tr>\n",
       "  </thead>\n",
       "  <tbody>\n",
       "    <tr>\n",
       "      <th>0</th>\n",
       "      <td>Áo bao đẹp ạ!!</td>\n",
       "      <td>POS</td>\n",
       "      <td>5</td>\n",
       "    </tr>\n",
       "    <tr>\n",
       "      <th>1</th>\n",
       "      <td>Tuyệt vời !</td>\n",
       "      <td>POS</td>\n",
       "      <td>5</td>\n",
       "    </tr>\n",
       "    <tr>\n",
       "      <th>2</th>\n",
       "      <td>2day ao khong giong trong.</td>\n",
       "      <td>NEG</td>\n",
       "      <td>1</td>\n",
       "    </tr>\n",
       "    <tr>\n",
       "      <th>3</th>\n",
       "      <td>Mùi thơm,bôi lên da mềm da.</td>\n",
       "      <td>POS</td>\n",
       "      <td>5</td>\n",
       "    </tr>\n",
       "    <tr>\n",
       "      <th>4</th>\n",
       "      <td>Vải đẹp, dày dặn.</td>\n",
       "      <td>POS</td>\n",
       "      <td>5</td>\n",
       "    </tr>\n",
       "  </tbody>\n",
       "</table>\n",
       "</div>"
      ],
      "text/plain": [
       "                       comment label  rate\n",
       "0               Áo bao đẹp ạ!!   POS     5\n",
       "1                  Tuyệt vời !   POS     5\n",
       "2   2day ao khong giong trong.   NEG     1\n",
       "3  Mùi thơm,bôi lên da mềm da.   POS     5\n",
       "4            Vải đẹp, dày dặn.   POS     5"
      ]
     },
     "execution_count": 11,
     "metadata": {},
     "output_type": "execute_result"
    }
   ],
   "source": [
    "df.head()"
   ]
  },
  {
   "cell_type": "markdown",
   "id": "1c4d5f90",
   "metadata": {},
   "source": [
    "### Thông tin tổng quan.\n",
    "\n",
    "- Thông tin chung"
   ]
  },
  {
   "cell_type": "code",
   "execution_count": 12,
   "id": "753f7947",
   "metadata": {},
   "outputs": [
    {
     "name": "stdout",
     "output_type": "stream",
     "text": [
      "<class 'pandas.core.frame.DataFrame'>\n",
      "RangeIndex: 31460 entries, 0 to 31459\n",
      "Data columns (total 3 columns):\n",
      " #   Column   Non-Null Count  Dtype \n",
      "---  ------   --------------  ----- \n",
      " 0   comment  31460 non-null  object\n",
      " 1   label    31460 non-null  object\n",
      " 2   rate     31460 non-null  int64 \n",
      "dtypes: int64(1), object(2)\n",
      "memory usage: 737.5+ KB\n",
      "None\n"
     ]
    }
   ],
   "source": [
    "print(df.info())"
   ]
  },
  {
   "cell_type": "markdown",
   "id": "b584a1dd",
   "metadata": {},
   "source": [
    "- Tổng số dòng bị thiếu."
   ]
  },
  {
   "cell_type": "markdown",
   "id": "e1f5cd1b",
   "metadata": {},
   "source": [
    "### Phân phối các nhãn cảm xúc"
   ]
  },
  {
   "cell_type": "code",
   "execution_count": 15,
   "id": "24dac986",
   "metadata": {},
   "outputs": [
    {
     "data": {
      "image/png": "[encoded data removed]",
      "text/plain": [
       "<Figure size 600x400 with 1 Axes>"
      ]
     },
     "metadata": {},
     "output_type": "display_data"
    }
   ],
   "source": [
    "plt.figure(figsize=(6,4))\n",
    "sns.countplot(data=df, x=\"label\", hue=\"label\", palette=\"Set2\", legend=False)\n",
    "plt.title(\"Phân phối các nhãn cảm xúc (label)\")\n",
    "plt.xlabel(\"Nhãn cảm xúc\")\n",
    "plt.ylabel(\"Số lượng\")\n",
    "plt.grid(axis='y')\n",
    "plt.show()"
   ]
  },
  {
   "cell_type": "markdown",
   "id": "94743d11",
   "metadata": {},
   "source": [
    "### Phân phối điểm số đánh giá (rate)"
   ]
  },
  {
   "cell_type": "code",
   "execution_count": null,
   "id": "7ff02e4b",
   "metadata": {},
   "outputs": [],
   "source": [
    "plt.figure(figsize=(6,4))\n",
    "sns.histplot(df['rate'], bins=10, kde=True, color='orange')\n",
    "plt.title(\"Phân phối điểm số đánh giá (rate)\")\n",
    "plt.xlabel(\"Rate\")\n"
   ]
  }
 ],
 "metadata": {
  "kernelspec": {
   "display_name": "Python 3 (ipykernel)",
   "language": "python",
   "name": "python3"
  },
  "language_info": {
   "codemirror_mode": {
    "name": "ipython",
    "version": 3
   },
   "file_extension": ".py",
   "mimetype": "text/x-python",
   "name": "python",
   "nbconvert_exporter": "python",
   "pygments_lexer": "ipython3",
   "version": "3.11.7"
  }
 },
 "nbformat": 4,
 "nbformat_minor": 5
}
