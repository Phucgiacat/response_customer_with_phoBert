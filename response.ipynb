{
 "cells": [
  {
   "cell_type": "markdown",
   "id": "f64f23bb",
   "metadata": {},
   "source": [
    "# Xây dựng hệ thống response với câu trả lời của khách.\n",
    "\n",
    "Các bước sẽ thực hiện.\n",
    "\n",
    "1 - tải các thư viện cần thiết bên dưới.\n",
    "\n",
    "2 - tải model phobert đã được train sẵn trước đó.\n",
    "\n",
    "3 - Tiền xử lý comment: loại bỏ các thành phần ảnh hưởng đến kết quả phân loại như: emoj, viết tắt, các dấu câu, ...\n",
    "\n",
    "4 - Dùng model đã tải để đưa ra loại cảm xúc.\n",
    "\n",
    "5 - dùng `all-MiniLM-L6-v2` để tính độ tương đồng đưa ra response hợp lý.\n",
    "\n",
    "**Lưu ý:** mô hình phobert sau khi được train được lưu trên hugging face: \"https://huggingface.co/phucgiacat/sentiment-vietnamese-phobert\"\n",
    "\n",
    "## 1. Tải các thư viện cần thiết"
   ]
  },
  {
   "cell_type": "code",
   "execution_count": 1,
   "id": "0d868276",
   "metadata": {},
   "outputs": [
    {
     "name": "stdout",
     "output_type": "stream",
     "text": [
      "Requirement already satisfied: transformers in /home/xv6/miniconda3/envs/ml-env/lib/python3.11/site-packages (4.51.3)\n",
      "Requirement already satisfied: filelock in /home/xv6/miniconda3/envs/ml-env/lib/python3.11/site-packages (from transformers) (3.18.0)\n",
      "Requirement already satisfied: huggingface-hub<1.0,>=0.30.0 in /home/xv6/miniconda3/envs/ml-env/lib/python3.11/site-packages (from transformers) (0.30.2)\n",
      "Requirement already satisfied: numpy>=1.17 in /home/xv6/miniconda3/envs/ml-env/lib/python3.11/site-packages (from transformers) (1.26.3)\n",
      "Requirement already satisfied: packaging>=20.0 in /home/xv6/miniconda3/envs/ml-env/lib/python3.11/site-packages (from transformers) (24.2)\n",
      "Requirement already satisfied: pyyaml>=5.1 in /home/xv6/miniconda3/envs/ml-env/lib/python3.11/site-packages (from transformers) (6.0.2)\n",
      "Requirement already satisfied: regex!=2019.12.17 in /home/xv6/miniconda3/envs/ml-env/lib/python3.11/site-packages (from transformers) (2024.11.6)\n",
      "Requirement already satisfied: requests in /home/xv6/miniconda3/envs/ml-env/lib/python3.11/site-packages (from transformers) (2.32.3)\n",
      "Requirement already satisfied: tokenizers<0.22,>=0.21 in /home/xv6/miniconda3/envs/ml-env/lib/python3.11/site-packages (from transformers) (0.21.1)\n",
      "Requirement already satisfied: safetensors>=0.4.3 in /home/xv6/miniconda3/envs/ml-env/lib/python3.11/site-packages (from transformers) (0.5.3)\n",
      "Requirement already satisfied: tqdm>=4.27 in /home/xv6/miniconda3/envs/ml-env/lib/python3.11/site-packages (from transformers) (4.67.1)\n",
      "Requirement already satisfied: fsspec>=2023.5.0 in /home/xv6/miniconda3/envs/ml-env/lib/python3.11/site-packages (from huggingface-hub<1.0,>=0.30.0->transformers) (2025.3.2)\n",
      "Requirement already satisfied: typing-extensions>=3.7.4.3 in /home/xv6/miniconda3/envs/ml-env/lib/python3.11/site-packages (from huggingface-hub<1.0,>=0.30.0->transformers) (4.13.0)\n",
      "Requirement already satisfied: charset_normalizer<4,>=2 in /home/xv6/miniconda3/envs/ml-env/lib/python3.11/site-packages (from requests->transformers) (3.4.1)\n",
      "Requirement already satisfied: idna<4,>=2.5 in /home/xv6/miniconda3/envs/ml-env/lib/python3.11/site-packages (from requests->transformers) (3.10)\n",
      "Requirement already satisfied: urllib3<3,>=1.21.1 in /home/xv6/miniconda3/envs/ml-env/lib/python3.11/site-packages (from requests->transformers) (2.3.0)\n",
      "Requirement already satisfied: certifi>=2017.4.17 in /home/xv6/miniconda3/envs/ml-env/lib/python3.11/site-packages (from requests->transformers) (2025.1.31)\n",
      "Requirement already satisfied: tf-keras in /home/xv6/miniconda3/envs/ml-env/lib/python3.11/site-packages (2.19.0)\n",
      "Requirement already satisfied: tensorflow<2.20,>=2.19 in /home/xv6/miniconda3/envs/ml-env/lib/python3.11/site-packages (from tf-keras) (2.19.0)\n",
      "Requirement already satisfied: absl-py>=1.0.0 in /home/xv6/miniconda3/envs/ml-env/lib/python3.11/site-packages (from tensorflow<2.20,>=2.19->tf-keras) (2.2.2)\n",
      "Requirement already satisfied: astunparse>=1.6.0 in /home/xv6/miniconda3/envs/ml-env/lib/python3.11/site-packages (from tensorflow<2.20,>=2.19->tf-keras) (1.6.3)\n",
      "Requirement already satisfied: flatbuffers>=24.3.25 in /home/xv6/miniconda3/envs/ml-env/lib/python3.11/site-packages (from tensorflow<2.20,>=2.19->tf-keras) (25.2.10)\n",
      "Requirement already satisfied: gast!=0.5.0,!=0.5.1,!=0.5.2,>=0.2.1 in /home/xv6/miniconda3/envs/ml-env/lib/python3.11/site-packages (from tensorflow<2.20,>=2.19->tf-keras) (0.6.0)\n",
      "Requirement already satisfied: google-pasta>=0.1.1 in /home/xv6/miniconda3/envs/ml-env/lib/python3.11/site-packages (from tensorflow<2.20,>=2.19->tf-keras) (0.2.0)\n",
      "Requirement already satisfied: libclang>=13.0.0 in /home/xv6/miniconda3/envs/ml-env/lib/python3.11/site-packages (from tensorflow<2.20,>=2.19->tf-keras) (18.1.1)\n",
      "Requirement already satisfied: opt-einsum>=2.3.2 in /home/xv6/miniconda3/envs/ml-env/lib/python3.11/site-packages (from tensorflow<2.20,>=2.19->tf-keras) (3.4.0)\n",
      "Requirement already satisfied: packaging in /home/xv6/miniconda3/envs/ml-env/lib/python3.11/site-packages (from tensorflow<2.20,>=2.19->tf-keras) (24.2)\n",
      "Requirement already satisfied: protobuf!=4.21.0,!=4.21.1,!=4.21.2,!=4.21.3,!=4.21.4,!=4.21.5,<6.0.0dev,>=3.20.3 in /home/xv6/miniconda3/envs/ml-env/lib/python3.11/site-packages (from tensorflow<2.20,>=2.19->tf-keras) (5.29.4)\n",
      "Requirement already satisfied: requests<3,>=2.21.0 in /home/xv6/miniconda3/envs/ml-env/lib/python3.11/site-packages (from tensorflow<2.20,>=2.19->tf-keras) (2.32.3)\n",
      "Requirement already satisfied: setuptools in /home/xv6/miniconda3/envs/ml-env/lib/python3.11/site-packages (from tensorflow<2.20,>=2.19->tf-keras) (75.8.2)\n",
      "Requirement already satisfied: six>=1.12.0 in /home/xv6/miniconda3/envs/ml-env/lib/python3.11/site-packages (from tensorflow<2.20,>=2.19->tf-keras) (1.17.0)\n",
      "Requirement already satisfied: termcolor>=1.1.0 in /home/xv6/miniconda3/envs/ml-env/lib/python3.11/site-packages (from tensorflow<2.20,>=2.19->tf-keras) (3.0.1)\n",
      "Requirement already satisfied: typing-extensions>=3.6.6 in /home/xv6/miniconda3/envs/ml-env/lib/python3.11/site-packages (from tensorflow<2.20,>=2.19->tf-keras) (4.13.0)\n",
      "Requirement already satisfied: wrapt>=1.11.0 in /home/xv6/miniconda3/envs/ml-env/lib/python3.11/site-packages (from tensorflow<2.20,>=2.19->tf-keras) (1.17.2)\n",
      "Requirement already satisfied: grpcio<2.0,>=1.24.3 in /home/xv6/miniconda3/envs/ml-env/lib/python3.11/site-packages (from tensorflow<2.20,>=2.19->tf-keras) (1.71.0)\n",
      "Requirement already satisfied: tensorboard~=2.19.0 in /home/xv6/miniconda3/envs/ml-env/lib/python3.11/site-packages (from tensorflow<2.20,>=2.19->tf-keras) (2.19.0)\n",
      "Requirement already satisfied: keras>=3.5.0 in /home/xv6/miniconda3/envs/ml-env/lib/python3.11/site-packages (from tensorflow<2.20,>=2.19->tf-keras) (3.9.2)\n",
      "Requirement already satisfied: numpy<2.2.0,>=1.26.0 in /home/xv6/miniconda3/envs/ml-env/lib/python3.11/site-packages (from tensorflow<2.20,>=2.19->tf-keras) (1.26.3)\n",
      "Requirement already satisfied: h5py>=3.11.0 in /home/xv6/miniconda3/envs/ml-env/lib/python3.11/site-packages (from tensorflow<2.20,>=2.19->tf-keras) (3.13.0)\n",
      "Requirement already satisfied: ml-dtypes<1.0.0,>=0.5.1 in /home/xv6/miniconda3/envs/ml-env/lib/python3.11/site-packages (from tensorflow<2.20,>=2.19->tf-keras) (0.5.1)\n",
      "Requirement already satisfied: tensorflow-io-gcs-filesystem>=0.23.1 in /home/xv6/miniconda3/envs/ml-env/lib/python3.11/site-packages (from tensorflow<2.20,>=2.19->tf-keras) (0.37.1)\n",
      "Requirement already satisfied: wheel<1.0,>=0.23.0 in /home/xv6/miniconda3/envs/ml-env/lib/python3.11/site-packages (from astunparse>=1.6.0->tensorflow<2.20,>=2.19->tf-keras) (0.45.1)\n",
      "Requirement already satisfied: rich in /home/xv6/miniconda3/envs/ml-env/lib/python3.11/site-packages (from keras>=3.5.0->tensorflow<2.20,>=2.19->tf-keras) (14.0.0)\n",
      "Requirement already satisfied: namex in /home/xv6/miniconda3/envs/ml-env/lib/python3.11/site-packages (from keras>=3.5.0->tensorflow<2.20,>=2.19->tf-keras) (0.0.9)\n",
      "Requirement already satisfied: optree in /home/xv6/miniconda3/envs/ml-env/lib/python3.11/site-packages (from keras>=3.5.0->tensorflow<2.20,>=2.19->tf-keras) (0.15.0)\n",
      "Requirement already satisfied: charset_normalizer<4,>=2 in /home/xv6/miniconda3/envs/ml-env/lib/python3.11/site-packages (from requests<3,>=2.21.0->tensorflow<2.20,>=2.19->tf-keras) (3.4.1)\n",
      "Requirement already satisfied: idna<4,>=2.5 in /home/xv6/miniconda3/envs/ml-env/lib/python3.11/site-packages (from requests<3,>=2.21.0->tensorflow<2.20,>=2.19->tf-keras) (3.10)\n",
      "Requirement already satisfied: urllib3<3,>=1.21.1 in /home/xv6/miniconda3/envs/ml-env/lib/python3.11/site-packages (from requests<3,>=2.21.0->tensorflow<2.20,>=2.19->tf-keras) (2.3.0)\n",
      "Requirement already satisfied: certifi>=2017.4.17 in /home/xv6/miniconda3/envs/ml-env/lib/python3.11/site-packages (from requests<3,>=2.21.0->tensorflow<2.20,>=2.19->tf-keras) (2025.1.31)\n",
      "Requirement already satisfied: markdown>=2.6.8 in /home/xv6/miniconda3/envs/ml-env/lib/python3.11/site-packages (from tensorboard~=2.19.0->tensorflow<2.20,>=2.19->tf-keras) (3.8)\n",
      "Requirement already satisfied: tensorboard-data-server<0.8.0,>=0.7.0 in /home/xv6/miniconda3/envs/ml-env/lib/python3.11/site-packages (from tensorboard~=2.19.0->tensorflow<2.20,>=2.19->tf-keras) (0.7.2)\n",
      "Requirement already satisfied: werkzeug>=1.0.1 in /home/xv6/miniconda3/envs/ml-env/lib/python3.11/site-packages (from tensorboard~=2.19.0->tensorflow<2.20,>=2.19->tf-keras) (3.1.3)\n"
     ]
    },
    {
     "name": "stdout",
     "output_type": "stream",
     "text": [
      "Requirement already satisfied: MarkupSafe>=2.1.1 in /home/xv6/miniconda3/envs/ml-env/lib/python3.11/site-packages (from werkzeug>=1.0.1->tensorboard~=2.19.0->tensorflow<2.20,>=2.19->tf-keras) (3.0.2)\n",
      "Requirement already satisfied: markdown-it-py>=2.2.0 in /home/xv6/miniconda3/envs/ml-env/lib/python3.11/site-packages (from rich->keras>=3.5.0->tensorflow<2.20,>=2.19->tf-keras) (3.0.0)\n",
      "Requirement already satisfied: pygments<3.0.0,>=2.13.0 in /home/xv6/miniconda3/envs/ml-env/lib/python3.11/site-packages (from rich->keras>=3.5.0->tensorflow<2.20,>=2.19->tf-keras) (2.19.1)\n",
      "Requirement already satisfied: mdurl~=0.1 in /home/xv6/miniconda3/envs/ml-env/lib/python3.11/site-packages (from markdown-it-py>=2.2.0->rich->keras>=3.5.0->tensorflow<2.20,>=2.19->tf-keras) (0.1.2)\n",
      "Requirement already satisfied: sentence-transformers in /home/xv6/miniconda3/envs/ml-env/lib/python3.11/site-packages (4.1.0)\n",
      "Requirement already satisfied: transformers<5.0.0,>=4.41.0 in /home/xv6/miniconda3/envs/ml-env/lib/python3.11/site-packages (from sentence-transformers) (4.51.3)\n",
      "Requirement already satisfied: tqdm in /home/xv6/miniconda3/envs/ml-env/lib/python3.11/site-packages (from sentence-transformers) (4.67.1)\n",
      "Requirement already satisfied: torch>=1.11.0 in /home/xv6/miniconda3/envs/ml-env/lib/python3.11/site-packages (from sentence-transformers) (2.6.0)\n",
      "Requirement already satisfied: scikit-learn in /home/xv6/miniconda3/envs/ml-env/lib/python3.11/site-packages (from sentence-transformers) (1.6.1)\n",
      "Requirement already satisfied: scipy in /home/xv6/miniconda3/envs/ml-env/lib/python3.11/site-packages (from sentence-transformers) (1.15.2)\n",
      "Requirement already satisfied: huggingface-hub>=0.20.0 in /home/xv6/miniconda3/envs/ml-env/lib/python3.11/site-packages (from sentence-transformers) (0.30.2)\n",
      "Requirement already satisfied: Pillow in /home/xv6/miniconda3/envs/ml-env/lib/python3.11/site-packages (from sentence-transformers) (11.1.0)\n",
      "Requirement already satisfied: typing_extensions>=4.5.0 in /home/xv6/miniconda3/envs/ml-env/lib/python3.11/site-packages (from sentence-transformers) (4.13.0)\n",
      "Requirement already satisfied: filelock in /home/xv6/miniconda3/envs/ml-env/lib/python3.11/site-packages (from huggingface-hub>=0.20.0->sentence-transformers) (3.18.0)\n",
      "Requirement already satisfied: fsspec>=2023.5.0 in /home/xv6/miniconda3/envs/ml-env/lib/python3.11/site-packages (from huggingface-hub>=0.20.0->sentence-transformers) (2025.3.2)\n",
      "Requirement already satisfied: packaging>=20.9 in /home/xv6/miniconda3/envs/ml-env/lib/python3.11/site-packages (from huggingface-hub>=0.20.0->sentence-transformers) (24.2)\n",
      "Requirement already satisfied: pyyaml>=5.1 in /home/xv6/miniconda3/envs/ml-env/lib/python3.11/site-packages (from huggingface-hub>=0.20.0->sentence-transformers) (6.0.2)\n",
      "Requirement already satisfied: requests in /home/xv6/miniconda3/envs/ml-env/lib/python3.11/site-packages (from huggingface-hub>=0.20.0->sentence-transformers) (2.32.3)\n",
      "Requirement already satisfied: networkx in /home/xv6/miniconda3/envs/ml-env/lib/python3.11/site-packages (from torch>=1.11.0->sentence-transformers) (3.4.2)\n",
      "Requirement already satisfied: jinja2 in /home/xv6/miniconda3/envs/ml-env/lib/python3.11/site-packages (from torch>=1.11.0->sentence-transformers) (3.1.6)\n",
      "Requirement already satisfied: nvidia-cuda-nvrtc-cu12==12.4.127 in /home/xv6/miniconda3/envs/ml-env/lib/python3.11/site-packages (from torch>=1.11.0->sentence-transformers) (12.4.127)\n",
      "Requirement already satisfied: nvidia-cuda-runtime-cu12==12.4.127 in /home/xv6/miniconda3/envs/ml-env/lib/python3.11/site-packages (from torch>=1.11.0->sentence-transformers) (12.4.127)\n",
      "Requirement already satisfied: nvidia-cuda-cupti-cu12==12.4.127 in /home/xv6/miniconda3/envs/ml-env/lib/python3.11/site-packages (from torch>=1.11.0->sentence-transformers) (12.4.127)\n",
      "Requirement already satisfied: nvidia-cudnn-cu12==9.1.0.70 in /home/xv6/miniconda3/envs/ml-env/lib/python3.11/site-packages (from torch>=1.11.0->sentence-transformers) (9.1.0.70)\n",
      "Requirement already satisfied: nvidia-cublas-cu12==12.4.5.8 in /home/xv6/miniconda3/envs/ml-env/lib/python3.11/site-packages (from torch>=1.11.0->sentence-transformers) (12.4.5.8)\n",
      "Requirement already satisfied: nvidia-cufft-cu12==11.2.1.3 in /home/xv6/miniconda3/envs/ml-env/lib/python3.11/site-packages (from torch>=1.11.0->sentence-transformers) (11.2.1.3)\n",
      "Requirement already satisfied: nvidia-curand-cu12==10.3.5.147 in /home/xv6/miniconda3/envs/ml-env/lib/python3.11/site-packages (from torch>=1.11.0->sentence-transformers) (10.3.5.147)\n",
      "Requirement already satisfied: nvidia-cusolver-cu12==11.6.1.9 in /home/xv6/miniconda3/envs/ml-env/lib/python3.11/site-packages (from torch>=1.11.0->sentence-transformers) (11.6.1.9)\n",
      "Requirement already satisfied: nvidia-cusparse-cu12==12.3.1.170 in /home/xv6/miniconda3/envs/ml-env/lib/python3.11/site-packages (from torch>=1.11.0->sentence-transformers) (12.3.1.170)\n",
      "Requirement already satisfied: nvidia-cusparselt-cu12==0.6.2 in /home/xv6/miniconda3/envs/ml-env/lib/python3.11/site-packages (from torch>=1.11.0->sentence-transformers) (0.6.2)\n",
      "Requirement already satisfied: nvidia-nccl-cu12==2.21.5 in /home/xv6/miniconda3/envs/ml-env/lib/python3.11/site-packages (from torch>=1.11.0->sentence-transformers) (2.21.5)\n",
      "Requirement already satisfied: nvidia-nvtx-cu12==12.4.127 in /home/xv6/miniconda3/envs/ml-env/lib/python3.11/site-packages (from torch>=1.11.0->sentence-transformers) (12.4.127)\n",
      "Requirement already satisfied: nvidia-nvjitlink-cu12==12.4.127 in /home/xv6/miniconda3/envs/ml-env/lib/python3.11/site-packages (from torch>=1.11.0->sentence-transformers) (12.4.127)\n",
      "Requirement already satisfied: triton==3.2.0 in /home/xv6/miniconda3/envs/ml-env/lib/python3.11/site-packages (from torch>=1.11.0->sentence-transformers) (3.2.0)\n",
      "Requirement already satisfied: sympy==1.13.1 in /home/xv6/miniconda3/envs/ml-env/lib/python3.11/site-packages (from torch>=1.11.0->sentence-transformers) (1.13.1)\n",
      "Requirement already satisfied: mpmath<1.4,>=1.1.0 in /home/xv6/miniconda3/envs/ml-env/lib/python3.11/site-packages (from sympy==1.13.1->torch>=1.11.0->sentence-transformers) (1.3.0)\n",
      "Requirement already satisfied: numpy>=1.17 in /home/xv6/miniconda3/envs/ml-env/lib/python3.11/site-packages (from transformers<5.0.0,>=4.41.0->sentence-transformers) (1.26.3)\n",
      "Requirement already satisfied: regex!=2019.12.17 in /home/xv6/miniconda3/envs/ml-env/lib/python3.11/site-packages (from transformers<5.0.0,>=4.41.0->sentence-transformers) (2024.11.6)\n",
      "Requirement already satisfied: tokenizers<0.22,>=0.21 in /home/xv6/miniconda3/envs/ml-env/lib/python3.11/site-packages (from transformers<5.0.0,>=4.41.0->sentence-transformers) (0.21.1)\n",
      "Requirement already satisfied: safetensors>=0.4.3 in /home/xv6/miniconda3/envs/ml-env/lib/python3.11/site-packages (from transformers<5.0.0,>=4.41.0->sentence-transformers) (0.5.3)\n",
      "Requirement already satisfied: joblib>=1.2.0 in /home/xv6/miniconda3/envs/ml-env/lib/python3.11/site-packages (from scikit-learn->sentence-transformers) (1.4.2)\n",
      "Requirement already satisfied: threadpoolctl>=3.1.0 in /home/xv6/miniconda3/envs/ml-env/lib/python3.11/site-packages (from scikit-learn->sentence-transformers) (3.6.0)\n",
      "Requirement already satisfied: MarkupSafe>=2.0 in /home/xv6/miniconda3/envs/ml-env/lib/python3.11/site-packages (from jinja2->torch>=1.11.0->sentence-transformers) (3.0.2)\n",
      "Requirement already satisfied: charset_normalizer<4,>=2 in /home/xv6/miniconda3/envs/ml-env/lib/python3.11/site-packages (from requests->huggingface-hub>=0.20.0->sentence-transformers) (3.4.1)\n",
      "Requirement already satisfied: idna<4,>=2.5 in /home/xv6/miniconda3/envs/ml-env/lib/python3.11/site-packages (from requests->huggingface-hub>=0.20.0->sentence-transformers) (3.10)\n",
      "Requirement already satisfied: urllib3<3,>=1.21.1 in /home/xv6/miniconda3/envs/ml-env/lib/python3.11/site-packages (from requests->huggingface-hub>=0.20.0->sentence-transformers) (2.3.0)\n",
      "Requirement already satisfied: certifi>=2017.4.17 in /home/xv6/miniconda3/envs/ml-env/lib/python3.11/site-packages (from requests->huggingface-hub>=0.20.0->sentence-transformers) (2025.1.31)\n",
      "Requirement already satisfied: huggingface_hub in /home/xv6/miniconda3/envs/ml-env/lib/python3.11/site-packages (0.30.2)\n",
      "Requirement already satisfied: filelock in /home/xv6/miniconda3/envs/ml-env/lib/python3.11/site-packages (from huggingface_hub) (3.18.0)\n",
      "Requirement already satisfied: fsspec>=2023.5.0 in /home/xv6/miniconda3/envs/ml-env/lib/python3.11/site-packages (from huggingface_hub) (2025.3.2)\n",
      "Requirement already satisfied: packaging>=20.9 in /home/xv6/miniconda3/envs/ml-env/lib/python3.11/site-packages (from huggingface_hub) (24.2)\n",
      "Requirement already satisfied: pyyaml>=5.1 in /home/xv6/miniconda3/envs/ml-env/lib/python3.11/site-packages (from huggingface_hub) (6.0.2)\n",
      "Requirement already satisfied: requests in /home/xv6/miniconda3/envs/ml-env/lib/python3.11/site-packages (from huggingface_hub) (2.32.3)\n",
      "Requirement already satisfied: tqdm>=4.42.1 in /home/xv6/miniconda3/envs/ml-env/lib/python3.11/site-packages (from huggingface_hub) (4.67.1)\n",
      "Requirement already satisfied: typing-extensions>=3.7.4.3 in /home/xv6/miniconda3/envs/ml-env/lib/python3.11/site-packages (from huggingface_hub) (4.13.0)\n",
      "Requirement already satisfied: charset_normalizer<4,>=2 in /home/xv6/miniconda3/envs/ml-env/lib/python3.11/site-packages (from requests->huggingface_hub) (3.4.1)\n",
      "Requirement already satisfied: idna<4,>=2.5 in /home/xv6/miniconda3/envs/ml-env/lib/python3.11/site-packages (from requests->huggingface_hub) (3.10)\n",
      "Requirement already satisfied: urllib3<3,>=1.21.1 in /home/xv6/miniconda3/envs/ml-env/lib/python3.11/site-packages (from requests->huggingface_hub) (2.3.0)\n",
      "Requirement already satisfied: certifi>=2017.4.17 in /home/xv6/miniconda3/envs/ml-env/lib/python3.11/site-packages (from requests->huggingface_hub) (2025.1.31)\n"
     ]
    }
   ],
   "source": [
    "!pip install transformers\n",
    "!pip install tf-keras\n",
    "!pip install sentence-transformers\n",
    "!pip install huggingface_hub"
   ]
  },
  {
   "cell_type": "markdown",
   "id": "2b7c7f9d",
   "metadata": {},
   "source": [
    "## 2. Tải model phoBert đã được train trước."
   ]
  },
  {
   "cell_type": "code",
   "execution_count": 2,
   "id": "81cad950",
   "metadata": {},
   "outputs": [
    {
     "name": "stderr",
     "output_type": "stream",
     "text": [
      "/home/xv6/miniconda3/envs/ml-env/lib/python3.11/site-packages/tqdm/auto.py:21: TqdmWarning: IProgress not found. Please update jupyter and ipywidgets. See https://ipywidgets.readthedocs.io/en/stable/user_install.html\n",
      "  from .autonotebook import tqdm as notebook_tqdm\n",
      "2025-04-28 20:15:52.938089: I tensorflow/core/util/port.cc:153] oneDNN custom operations are on. You may see slightly different numerical results due to floating-point round-off errors from different computation orders. To turn them off, set the environment variable `TF_ENABLE_ONEDNN_OPTS=0`.\n",
      "2025-04-28 20:15:53.297671: E external/local_xla/xla/stream_executor/cuda/cuda_fft.cc:467] Unable to register cuFFT factory: Attempting to register factory for plugin cuFFT when one has already been registered\n",
      "WARNING: All log messages before absl::InitializeLog() is called are written to STDERR\n",
      "E0000 00:00:1745871353.432377     397 cuda_dnn.cc:8579] Unable to register cuDNN factory: Attempting to register factory for plugin cuDNN when one has already been registered\n",
      "E0000 00:00:1745871353.470426     397 cuda_blas.cc:1407] Unable to register cuBLAS factory: Attempting to register factory for plugin cuBLAS when one has already been registered\n",
      "W0000 00:00:1745871353.738399     397 computation_placer.cc:177] computation placer already registered. Please check linkage and avoid linking the same target more than once.\n",
      "W0000 00:00:1745871353.738467     397 computation_placer.cc:177] computation placer already registered. Please check linkage and avoid linking the same target more than once.\n",
      "W0000 00:00:1745871353.738468     397 computation_placer.cc:177] computation placer already registered. Please check linkage and avoid linking the same target more than once.\n",
      "W0000 00:00:1745871353.738470     397 computation_placer.cc:177] computation placer already registered. Please check linkage and avoid linking the same target more than once.\n",
      "2025-04-28 20:15:53.766577: I tensorflow/core/platform/cpu_feature_guard.cc:210] This TensorFlow binary is optimized to use available CPU instructions in performance-critical operations.\n",
      "To enable the following instructions: AVX2 AVX512F AVX512_VNNI FMA, in other operations, rebuild TensorFlow with the appropriate compiler flags.\n",
      "Device set to use cpu\n"
     ]
    }
   ],
   "source": [
    "from transformers import pipeline\n",
    "from sentence_transformers import SentenceTransformer, util\n",
    "from sentence_transformers.util import cos_sim\n",
    "import torch\n",
    "\n",
    "model = SentenceTransformer('all-MiniLM-L6-v2') \n",
    "sentiment_pipeline = pipeline(\"text-classification\", model=\"phucgiacat/sentiment-vietnamese-phobert\", tokenizer=\"phucgiacat/sentiment-vietnamese-phobert\")"
   ]
  },
  {
   "cell_type": "markdown",
   "id": "06fe86bf",
   "metadata": {},
   "source": [
    "## 3.  Tìm response để phản hồi hợp lý"
   ]
  },
  {
   "cell_type": "code",
   "execution_count": 3,
   "id": "d9c4e251",
   "metadata": {},
   "outputs": [],
   "source": [
    "import json\n",
    "import teencode_mean\n",
    "\n",
    "with open('data/response_data.json', 'r', encoding='utf-8') as f:\n",
    "    data = json.load(f)\n",
    "\n",
    "def find_best_response(user_message, data, predeicted_emotion):\n",
    "    samples = data.get(predeicted_emotion, [])\n",
    "    if not samples:\n",
    "        return \"Xin lỗi mình chưa tìm thấy thông tin phù hợp. Mình sẽ chuyển bạn đến nhân viên hỗ trợ nhé.\"\n",
    "    user_embedding = model.encode(user_message, convert_to_tensor=True)\n",
    "    sample_embeddings = model.encode([s[\"text\"] for s in samples], convert_to_tensor=True)\n",
    "    cosine_scores = util.cos_sim(user_embedding, sample_embeddings)\n",
    "    if torch.max(cosine_scores) < 0.3:\n",
    "        return \"Bạn có thể nói rõ để hệ thống có thể hỗ trợ mình một cách tốt nhất ạ !\"\n",
    "    best_match_idx = torch.argmax(cosine_scores).item()\n",
    "    return samples[best_match_idx][\"response\"]"
   ]
  },
  {
   "cell_type": "markdown",
   "id": "f2934032",
   "metadata": {},
   "source": [
    "## 4. Xử lý comment bỏ đi các thành phần gây nhiễu."
   ]
  },
  {
   "cell_type": "code",
   "execution_count": 4,
   "id": "7778e380",
   "metadata": {},
   "outputs": [],
   "source": [
    "from underthesea import word_tokenize\n",
    "from dataclasses import dataclass  # <-- đúng chuẩn\n",
    "import re\n",
    "import teencode_mean\n",
    "\n",
    "@dataclass\n",
    "class preProcess:\n",
    "    emoji_pattern = re.compile(\"[\" \n",
    "                u\"\\U0001F600-\\U0001F64F\"\n",
    "                u\"\\U0001F300-\\U0001F5FF\"\n",
    "                u\"\\U0001F680-\\U0001F6FF\"\n",
    "                u\"\\U0001F1E0-\\U0001F1FF\"\n",
    "                u\"\\U00002702-\\U000027B0\"\n",
    "                u\"\\U000024C2-\\U0001F251\"\n",
    "                u\"\\U0001f926-\\U0001f937\"\n",
    "                u'\\U00010000-\\U0010ffff'\n",
    "                u\"\\u200d\"\n",
    "                u\"\\u2640-\\u2642\"\n",
    "                u\"\\u2600-\\u2B55\"\n",
    "                u\"\\u23cf\"\n",
    "                u\"\\u23e9\"\n",
    "                u\"\\u231a\"\n",
    "                u\"\\u3030\"\n",
    "                u\"\\ufe0f\"\n",
    "    \"]+\", flags=re.UNICODE)\n",
    "\n",
    "    def text_lower(self, text):\n",
    "        return text.lower()\n",
    "\n",
    "    def remove_numbers(self, text):\n",
    "        return ''.join([i for i in text if not i.isdigit()])\n",
    "\n",
    "    def remove_punctuation(self, text):\n",
    "        text = text.replace(\",\", \" \").replace(\".\", \" \") \\\n",
    "            .replace(\";\", \" \").replace(\"“\", \" \") \\\n",
    "            .replace(\":\", \" \").replace(\"”\", \" \") \\\n",
    "            .replace('\"', \" \").replace(\"'\", \" \") \\\n",
    "            .replace(\"!\", \" \").replace(\"?\", \" \") \\\n",
    "            .replace(\"-\", \" \").replace(\"?\", \" \")\n",
    "        return text\n",
    "\n",
    "    def remove_extra_whitespace(self, text):\n",
    "        return ' '.join(text.split())\n",
    "\n",
    "    def remove_repeated_characters(self, text):\n",
    "        return ''.join([text[i] for i in range(len(text)) if i == 0 or text[i] != text[i-1]])\n",
    "\n",
    "    def remove_special_characters(self, text):\n",
    "        return ''.join([i for i in text if i.isalnum() or i.isspace()])\n",
    "\n",
    "    def VN_tokenize(self, text):\n",
    "        return word_tokenize(text, format=\"text\")\n",
    "\n",
    "    def Util(self, text):\n",
    "        text = text.split()\n",
    "        length = len(text)\n",
    "        for i in range(length):\n",
    "            if text[i] in list(teencode_mean.teencodes.keys()):\n",
    "                text[i] = teencode_mean.teencodes[text[i]]\n",
    "        return ' '.join(text)\n",
    "\n",
    "    def Text_preProcessing(self, text):\n",
    "        text = self.text_lower(text)\n",
    "        text = re.sub(self.emoji_pattern, \" \", text)\n",
    "        text = self.remove_punctuation(text)\n",
    "        text = self.remove_extra_whitespace(text)\n",
    "        text = self.remove_repeated_characters(text)\n",
    "        text = self.Util(text)\n",
    "        text = self.remove_numbers(text)\n",
    "        return text\n",
    "\n",
    "# Test thử\n",
    "process_text = preProcess()"
   ]
  },
  {
   "cell_type": "markdown",
   "id": "d7b0e588",
   "metadata": {},
   "source": [
    "## 3. đưa ra kết quả cuối cùng."
   ]
  },
  {
   "cell_type": "code",
   "execution_count": 6,
   "id": "9648e659",
   "metadata": {},
   "outputs": [
    {
     "name": "stdout",
     "output_type": "stream",
     "text": [
      "comment đã xử lý: sản phầm xài cảm giác rất tốt\n",
      "loại cảm xúc comment: POS\n",
      "respone: WOODA cảm ơn bạn rất nhiều ạ! Nếu bạn cần thêm sản phẩm mới, cứ nhắn mình nhé 💖.\n"
     ]
    }
   ],
   "source": [
    "id2label = {0: \"POS\", 1: \"NEU\", 2: \"NEG\"}\n",
    "comment = \"Sản phầm xài cảm giác rất tốt\"\n",
    "comment = process_text.Text_preProcessing(comment)\n",
    "result = sentiment_pipeline(comment)\n",
    "label_id = int(result[0]['label'].split('_')[-1])\n",
    "predict = id2label[label_id]\n",
    "\n",
    "best_response = find_best_response(comment, data, predict)\n",
    "print(f\"comment đã xử lý: {comment}\")\n",
    "print(f\"loại cảm xúc comment: {predict}\")\n",
    "print(f\"respone: {best_response}\")"
   ]
  },
  {
   "cell_type": "markdown",
   "id": "ade9963d",
   "metadata": {},
   "source": [
    "sẽ còn phát triển thêm ~~ cố lên nha mọi người :)))"
   ]
  },
  {
   "cell_type": "code",
   "execution_count": null,
   "id": "39f8bdc9",
   "metadata": {},
   "outputs": [],
   "source": []
  }
 ],
 "metadata": {
  "kernelspec": {
   "display_name": "Python 3 (ipykernel)",
   "language": "python",
   "name": "python3"
  },
  "language_info": {
   "codemirror_mode": {
    "name": "ipython",
    "version": 3
   },
   "file_extension": ".py",
   "mimetype": "text/x-python",
   "name": "python",
   "nbconvert_exporter": "python",
   "pygments_lexer": "ipython3",
   "version": "3.11.7"
  }
 },
 "nbformat": 4,
 "nbformat_minor": 5
}
